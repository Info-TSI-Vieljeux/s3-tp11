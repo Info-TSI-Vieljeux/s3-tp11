{
 "cells": [
  {
   "cell_type": "markdown",
   "id": "06bd64a8",
   "metadata": {},
   "source": [
    ">Ouvrir le notebook dans Colab en modifiant le début de son adresse dans le navigateur :<br>\n",
    "il faut remplacer **github.com** par **githubtocolab.com**.<br>\n",
    "Une fois vos réponses apportées, le notebook devra être sauvegardé dans GitHub, dans le repository du TP :<br>\n",
    "*Fichier > Enregistrer une copie dans Github*<br>\n",
    "*Info-TSI-Vieljeux/tpx-votre_nom*<br>\n",
    "\n",
    "---"
   ]
  },
  {
   "cell_type": "markdown",
   "id": "08e7fb4e",
   "metadata": {
    "deletable": false,
    "editable": false,
    "nbgrader": {
     "cell_type": "markdown",
     "checksum": "0045a1b1a44e9dbded5e7734e1fcdd36",
     "grade": false,
     "grade_id": "cell-618d97af9d6db2e3",
     "locked": true,
     "schema_version": 3,
     "solution": false,
     "task": false
    }
   },
   "source": [
    "# TP 11 : algorithmique numérique"
   ]
  },
  {
   "cell_type": "markdown",
   "id": "c8afcdec",
   "metadata": {
    "deletable": false,
    "editable": false,
    "nbgrader": {
     "cell_type": "markdown",
     "checksum": "82f7420e8754f89aa4e6196eaaf0c418",
     "grade": false,
     "grade_id": "cell-0e623b4c2230803d",
     "locked": true,
     "schema_version": 3,
     "solution": false,
     "task": false
    }
   },
   "source": [
    "## Pivot de Gauss"
   ]
  },
  {
   "cell_type": "code",
   "execution_count": null,
   "id": "801b33a1",
   "metadata": {},
   "outputs": [],
   "source": [
    "def Gauss(M,recherchePivot) :\n",
    "    \"\"\"\n",
    "    préconditions : M une liste de listes (matrice) contenant des nombres.\n",
    "                    recherchePivot est une fonction ayant pour paramètres la matrice et deux indices \n",
    "                    et renvoyant l'indice du prochain pivot.\n",
    "    postcondition : M est mutée sous la forme d'une matrice échelonnée réduite.\n",
    "    La fonction ne retourne rien (elle a juste un effet de bord).\n",
    "    \"\"\"\n",
    "    m = len(M)                                    # nombre de lignes de la matrice M\n",
    "    n = len(M[0])                                 # nombre de colonnes\n",
    "    h = k = 0\n",
    "    tol = 1e-9                        \n",
    "    while h < m and k < n :                       # h sera l'indice des lignes et k celui des colonnes\n",
    "        ipivot = recherchePivot(M,h,k)            # à déterminer par la suite\n",
    "        pivot = M[ipivot][k]\n",
    "        if abs(pivot) < tol :                     # pour tester la nullité d'un candidat pivot\n",
    "            k += 1\n",
    "        else :\n",
    "            if h != ipivot :\n",
    "                M[h],M[ipivot] = M[ipivot],M[h]   # on permute la ligne du pivot et celle correspondant à h\n",
    "            for j in range(k,n) :\n",
    "                M[h][j] /= pivot                  # on normalise la ligne du pivot pour avoir 1 dans la diagonale\n",
    "            for i in range(h+1,m) :\n",
    "                f = M[i][k]\n",
    "                for j in range(k,n) :\n",
    "                    M[i][j] -= M[h][j] * f        # Li <- Li - Lh\n",
    "            h +=1\n",
    "            k += 1"
   ]
  },
  {
   "cell_type": "markdown",
   "id": "834049e1",
   "metadata": {
    "deletable": false,
    "editable": false,
    "nbgrader": {
     "cell_type": "markdown",
     "checksum": "0cdc75a07a24b7ffc34949eca332822f",
     "grade": false,
     "grade_id": "cell-9d4e9a60a3daada9",
     "locked": true,
     "schema_version": 3,
     "solution": false,
     "task": false
    }
   },
   "source": [
    "Il ne reste plus qu'à définir la fonction `recherchePivot`...<br>\n",
    "Dans sa version naïve, il s'agit simplement du prochain élément dans la diagonale.<br>\n",
    "Écrire la fonction `recherchePivotNaive` correspondante en essayant de vous y retrouver avec les indices.\n",
    "La fonction doit retourner l'indice du pivot."
   ]
  },
  {
   "cell_type": "code",
   "execution_count": null,
   "id": "ee969e61",
   "metadata": {
    "deletable": false,
    "nbgrader": {
     "cell_type": "code",
     "checksum": "64977128820d6bfa7ff9498fd506d88f",
     "grade": false,
     "grade_id": "cell-351d62c7f232e9ec",
     "locked": false,
     "schema_version": 3,
     "solution": true,
     "task": false
    }
   },
   "outputs": [],
   "source": [
    "def recherchePivotNaive(M :list,h :int,k :int) -> int:\n",
    "    # VOTRE CODE"
   ]
  },
  {
   "cell_type": "code",
   "execution_count": null,
   "id": "2a642aba",
   "metadata": {
    "deletable": false,
    "editable": false,
    "nbgrader": {
     "cell_type": "code",
     "checksum": "77c3fe1dbae6522c0e494e8b95e56720",
     "grade": true,
     "grade_id": "cell-fd667de9e9e46eca",
     "locked": true,
     "points": 1,
     "schema_version": 3,
     "solution": false,
     "task": false
    }
   },
   "outputs": [],
   "source": [
    "# Cellule d'évaluation, ne pas modifier"
   ]
  },
  {
   "cell_type": "markdown",
   "id": "333f8d19",
   "metadata": {},
   "source": [
    "On va utiliser un module permettant d'avoir la main sur le codage machine des flottants : `decimal`.<br>\n",
    "Les valeurs de la matrice que l'on va construire ci-dessous seront limitées à 4 chiffres significatifs et l'arrondi se fera à la valeur inférieure (pour reproduire la troncature imposée par le codage des nombres)."
   ]
  },
  {
   "cell_type": "code",
   "execution_count": null,
   "id": "09602215",
   "metadata": {},
   "outputs": [],
   "source": [
    "import decimal\n",
    "from decimal import Decimal\n",
    "decimal.getcontext().prec= 4\n",
    "decimal.getcontext().rounding = decimal.ROUND_DOWN\n",
    "\n",
    "A = [[Decimal(20),Decimal(15),Decimal(10),Decimal(45)],\n",
    "     [Decimal(-3),Decimal(-2.249),Decimal(7),Decimal(1.751)],\n",
    "     [Decimal(5),Decimal(1),Decimal(3),Decimal(9)]]\n",
    "\n",
    "for ligne in A :\n",
    "    print(ligne)"
   ]
  },
  {
   "cell_type": "markdown",
   "id": "403ade1a",
   "metadata": {
    "deletable": false,
    "editable": false,
    "nbgrader": {
     "cell_type": "markdown",
     "checksum": "eaaa4ae1db808768f8adf23993350a96",
     "grade": false,
     "grade_id": "cell-9d29a76e6e4041cc",
     "locked": true,
     "schema_version": 3,
     "solution": false,
     "task": false
    }
   },
   "source": [
    "Pour que l'affichage soit plus propre, on reconvertit les flottants \"Decimal\" en flottants python habituels."
   ]
  },
  {
   "cell_type": "code",
   "execution_count": null,
   "id": "f30f9c28",
   "metadata": {},
   "outputs": [],
   "source": [
    "def affiche(M) :\n",
    "    for l in M :\n",
    "        for e in l :\n",
    "            print(f\"{float(e):^10}\",end=\"\")\n",
    "        print()"
   ]
  },
  {
   "cell_type": "code",
   "execution_count": null,
   "id": "0d1a2b76",
   "metadata": {},
   "outputs": [],
   "source": [
    "decimal.getcontext().prec= 4\n",
    "decimal.getcontext().rounding = decimal.ROUND_DOWN\n",
    "# Pour un raison ou pour une autre, Colab veut ses deux lignes dans chaque cellule...\n",
    "affiche(A)"
   ]
  },
  {
   "cell_type": "markdown",
   "id": "c46b73d9",
   "metadata": {
    "deletable": false,
    "editable": false,
    "nbgrader": {
     "cell_type": "markdown",
     "checksum": "c2e405f198cfbcae695009b8103e4dfb",
     "grade": false,
     "grade_id": "cell-e9f4a57506cb0e60",
     "locked": true,
     "schema_version": 3,
     "solution": false,
     "task": false
    }
   },
   "source": [
    "Appliquons la méthode du pivot de Gauss avec recherche naïve du pivot sur la matrice `A` :"
   ]
  },
  {
   "cell_type": "code",
   "execution_count": null,
   "id": "3d9133f6",
   "metadata": {},
   "outputs": [],
   "source": [
    "decimal.getcontext().prec= 4\n",
    "decimal.getcontext().rounding = decimal.ROUND_DOWN\n",
    "Gauss(A,recherchePivotNaive)\n",
    "affiche(A) # pensez à rééxéxuter la cellule de définition de A pour réinitialiser la définition"
   ]
  },
  {
   "cell_type": "markdown",
   "id": "74091b14",
   "metadata": {
    "deletable": false,
    "editable": false,
    "nbgrader": {
     "cell_type": "markdown",
     "checksum": "41fc20d4bccdf10812fbaff84babc015",
     "grade": false,
     "grade_id": "cell-e0490d962658d58e",
     "locked": true,
     "schema_version": 3,
     "solution": false,
     "task": false
    }
   },
   "source": [
    "Construisons maintenant une fonction `substitution` qui part d'une matrice échelonnée réduite et qui en déduit le vecteur solution du système d'équations représenté par la matrice."
   ]
  },
  {
   "cell_type": "code",
   "execution_count": null,
   "id": "d708c3a3",
   "metadata": {
    "deletable": false,
    "nbgrader": {
     "cell_type": "code",
     "checksum": "bbf503f7b9df6c7c9e99eb25b719daf5",
     "grade": false,
     "grade_id": "cell-0084c1f8c39e44d5",
     "locked": false,
     "schema_version": 3,
     "solution": true,
     "task": false
    }
   },
   "outputs": [],
   "source": [
    "def substitution(M) :\n",
    "    \"\"\"\n",
    "    précondition : M est une matrice (liste de listes) échelonnée réduite\n",
    "    postcondition : la fonction retourne le vecteur solution V (tel que M*V = 0)\n",
    "    \"\"\"\n",
    "    n = len(M)\n",
    "    V = [0]*n\n",
    "    # VOTRE CODE\n",
    "    return V"
   ]
  },
  {
   "cell_type": "code",
   "execution_count": null,
   "id": "9a418c60",
   "metadata": {
    "deletable": false,
    "editable": false,
    "nbgrader": {
     "cell_type": "code",
     "checksum": "e78d0f5c5d47cb58d682365d7f221c2d",
     "grade": true,
     "grade_id": "cell-df6a896ade8eea1b",
     "locked": true,
     "points": 1,
     "schema_version": 3,
     "solution": false,
     "task": false
    }
   },
   "outputs": [],
   "source": [
    "# Cellule d'évaluation, ne pas modifier"
   ]
  },
  {
   "cell_type": "code",
   "execution_count": null,
   "id": "330e48f3",
   "metadata": {},
   "outputs": [],
   "source": [
    "def afficheSolution(M) :\n",
    "    \"\"\"\n",
    "    v est le vecteur solution\n",
    "    \"\"\"\n",
    "    sol  = ['x','y','z']\n",
    "    v = substitution(M)\n",
    "    for xi,vi in zip(sol,v) :\n",
    "        print(xi,\"=\",vi)"
   ]
  },
  {
   "cell_type": "code",
   "execution_count": null,
   "id": "df49d655",
   "metadata": {},
   "outputs": [],
   "source": [
    "decimal.getcontext().prec= 4\n",
    "decimal.getcontext().rounding = decimal.ROUND_DOWN\n",
    "afficheSolution(A)"
   ]
  },
  {
   "cell_type": "markdown",
   "id": "a853b0f8",
   "metadata": {
    "deletable": false,
    "editable": false,
    "nbgrader": {
     "cell_type": "markdown",
     "checksum": "7137041dae72a5aa7e7078bb9607088a",
     "grade": false,
     "grade_id": "cell-a9e8c1341a620d43",
     "locked": true,
     "schema_version": 3,
     "solution": false,
     "task": false
    }
   },
   "source": [
    "Reprenons maintenant la fonction `recherchePivot` afin d'implémenter la **méthode du pivot partiel**.<br>\n",
    "Pour cela, `recherchePivotPartiel` devra fournir l'indice de la ligne où se trouve l'élément de plus petite valeur absolue parmi les éléments sur la diagonale et en dessous (≥`h`) dans la colonne considérée (`k`)."
   ]
  },
  {
   "cell_type": "code",
   "execution_count": null,
   "id": "efe48248",
   "metadata": {
    "deletable": false,
    "nbgrader": {
     "cell_type": "code",
     "checksum": "445cd424e18bb1550e9c2fc0ed8d2c95",
     "grade": false,
     "grade_id": "cell-a8616237901476ac",
     "locked": false,
     "schema_version": 3,
     "solution": true,
     "task": false
    }
   },
   "outputs": [],
   "source": [
    "def recherchePivotPartiel(M :list,h :int,k :int) -> int:\n",
    "    # VOTRE CODE"
   ]
  },
  {
   "cell_type": "code",
   "execution_count": null,
   "id": "468a2e21",
   "metadata": {
    "deletable": false,
    "editable": false,
    "nbgrader": {
     "cell_type": "code",
     "checksum": "a39b184bbd81de3423cd9da8988c2082",
     "grade": true,
     "grade_id": "cell-7e8e353649a1f9ce",
     "locked": true,
     "points": 1,
     "schema_version": 3,
     "solution": false,
     "task": false
    }
   },
   "outputs": [],
   "source": [
    "# Cellule d'évaluation, ne pas modifier"
   ]
  },
  {
   "cell_type": "code",
   "execution_count": null,
   "id": "0db9f58c",
   "metadata": {},
   "outputs": [],
   "source": [
    "A = [[Decimal(20),Decimal(15),Decimal(10),Decimal(45)],\n",
    "     [Decimal(-3),Decimal(-2.249),Decimal(7),Decimal(1.751)],\n",
    "     [Decimal(5),Decimal(1),Decimal(3),Decimal(9)]]\n",
    "\n",
    "print(\"Matrice de départ :\")\n",
    "affiche(A)\n",
    "\n",
    "print(\"\\nForme échelonnée réduite avec méthode du pivot partiel :\")\n",
    "Gauss(A,recherchePivotPartiel)\n",
    "affiche(A)\n",
    "\n",
    "print(\"\\nSolution :\")\n",
    "afficheSolution(A)"
   ]
  },
  {
   "cell_type": "markdown",
   "id": "2c7b23a4",
   "metadata": {
    "deletable": false,
    "editable": false,
    "nbgrader": {
     "cell_type": "markdown",
     "checksum": "f6ec1e94739a2d7785dfea7cd7047c5f",
     "grade": false,
     "grade_id": "cell-9277ae31f4629b48",
     "locked": true,
     "schema_version": 3,
     "solution": false,
     "task": false
    }
   },
   "source": [
    "On constate que la méthode avec pivot partiel est beaucoup moins aux fraises que la méthode naïve..."
   ]
  },
  {
   "cell_type": "markdown",
   "id": "5cc61d72",
   "metadata": {
    "deletable": false,
    "editable": false,
    "nbgrader": {
     "cell_type": "markdown",
     "checksum": "23e38700ac3a5f38d9fff621bf7ccba9",
     "grade": false,
     "grade_id": "cell-141d77274c0d5af0",
     "locked": true,
     "schema_version": 3,
     "solution": false,
     "task": false
    }
   },
   "source": [
    "Quelle est la complexité de la méthode du pivot de gausse ainsi construite&nbsp;?\n",
    "- a : linéaire\n",
    "- b : quadratique\n",
    "- c : cubique\n",
    "- d : polynomiale de degré > 3"
   ]
  },
  {
   "cell_type": "code",
   "execution_count": null,
   "id": "e02520e5",
   "metadata": {},
   "outputs": [],
   "source": [
    "# Affectez votre réponse sous la forme du caractère 'a', 'b', 'c' ou 'd' à la variable compl :\n",
    "compl = 'e'"
   ]
  },
  {
   "cell_type": "code",
   "execution_count": null,
   "id": "dbef9ed2",
   "metadata": {
    "deletable": false,
    "editable": false,
    "nbgrader": {
     "cell_type": "code",
     "checksum": "e41c9f7a0b121840cf3dc9f0e0769774",
     "grade": true,
     "grade_id": "cell-acd686e1d7fdc038",
     "locked": true,
     "points": 1,
     "schema_version": 3,
     "solution": false,
     "task": false
    }
   },
   "outputs": [],
   "source": [
    "# Cellule d'évaluation, ne pas modifier"
   ]
  },
  {
   "cell_type": "markdown",
   "id": "583db592",
   "metadata": {
    "deletable": false,
    "editable": false,
    "nbgrader": {
     "cell_type": "markdown",
     "checksum": "c0746342fbf3a31da4ba66222c57bf16",
     "grade": false,
     "grade_id": "cell-8331d3ead864cff5",
     "locked": true,
     "schema_version": 3,
     "solution": false,
     "task": false
    }
   },
   "source": [
    "## Interpolation polynomiale de Lagrange"
   ]
  },
  {
   "cell_type": "markdown",
   "id": "0bcab8f5",
   "metadata": {
    "deletable": false,
    "editable": false,
    "nbgrader": {
     "cell_type": "markdown",
     "checksum": "ccffe55cceef0e34a3c0200553a7e46e",
     "grade": false,
     "grade_id": "cell-b6e68d9b606934ed",
     "locked": true,
     "schema_version": 3,
     "solution": false,
     "task": false
    }
   },
   "source": [
    "### Phénomène de Runge"
   ]
  },
  {
   "cell_type": "markdown",
   "id": "68c604d6",
   "metadata": {
    "deletable": false,
    "editable": false,
    "nbgrader": {
     "cell_type": "markdown",
     "checksum": "026731c804e062481f4521b329631e5b",
     "grade": false,
     "grade_id": "cell-4c8ffc0eea2b5d3e",
     "locked": true,
     "schema_version": 3,
     "solution": false,
     "task": false
    }
   },
   "source": [
    "L'augmentation du nombre $n$ de points d'interpolation ne constitue pas nécessairement une bonne stratégie d'approximation comme on va le voir dans l'exemple suivant."
   ]
  },
  {
   "cell_type": "markdown",
   "id": "38e4338f",
   "metadata": {
    "deletable": false,
    "editable": false,
    "nbgrader": {
     "cell_type": "markdown",
     "checksum": "313eb2cd3a99fa583b1d956daa2e8a11",
     "grade": false,
     "grade_id": "cell-6957ddb4a6d4a8b6",
     "locked": true,
     "schema_version": 3,
     "solution": false,
     "task": false
    }
   },
   "source": [
    "Définir en Python dans la cellule ci-dessous la fonction $f:x\\mapsto\\frac{1}{1+x^2}$.<br>\n",
    "La fonction devra s'appeler `f`."
   ]
  },
  {
   "cell_type": "code",
   "execution_count": null,
   "id": "0f5c745f",
   "metadata": {
    "deletable": false,
    "nbgrader": {
     "cell_type": "code",
     "checksum": "6cf08539c6d3edad0eec38ceea7fed93",
     "grade": false,
     "grade_id": "cell-d4818fde0600b49a",
     "locked": false,
     "schema_version": 3,
     "solution": true,
     "task": false
    }
   },
   "outputs": [],
   "source": [
    "# VOTRE CODE"
   ]
  },
  {
   "cell_type": "code",
   "execution_count": null,
   "id": "376da8a9",
   "metadata": {
    "deletable": false,
    "editable": false,
    "nbgrader": {
     "cell_type": "code",
     "checksum": "a016dc1901e726ff2500ed5295b7d560",
     "grade": true,
     "grade_id": "cell-848cf640e2d2c003",
     "locked": true,
     "points": 1,
     "schema_version": 3,
     "solution": false,
     "task": false
    }
   },
   "outputs": [],
   "source": [
    "# Cellule d'évaluation, ne pas modifier"
   ]
  },
  {
   "cell_type": "markdown",
   "id": "e8ec424f",
   "metadata": {
    "deletable": false,
    "editable": false,
    "nbgrader": {
     "cell_type": "markdown",
     "checksum": "e7e3ca73e196fa7df370ed9e744d0079",
     "grade": false,
     "grade_id": "cell-f4bcf339fc123495",
     "locked": true,
     "schema_version": 3,
     "solution": false,
     "task": false
    }
   },
   "source": [
    "Construisez maintenant le polynôme d'interpolation de Lagrange en suivant la formule du cours.<br>\n",
    "Attention : le nombre de points $n$ est un paramètre de la fonction construite."
   ]
  },
  {
   "cell_type": "code",
   "execution_count": null,
   "id": "c53e42ff",
   "metadata": {
    "deletable": false,
    "nbgrader": {
     "cell_type": "code",
     "checksum": "d274ca89c05843423fbe272145ac04e7",
     "grade": false,
     "grade_id": "cell-13a0821d226644d8",
     "locked": false,
     "schema_version": 3,
     "solution": true,
     "task": false
    }
   },
   "outputs": [],
   "source": [
    "def interp(f, n: int, interv: tuple, x: float) -> float:\n",
    "    \"\"\"\n",
    "    postcondition : la fonction retourne P(x) où P est le polynôme d'interpolation de Lagrange de f passant par les n points.\n",
    "    \"\"\"\n",
    "    debut,fin = interv[0],interv[1]\n",
    "    X = [debut + i*(fin-debut)/(n-1) for i in range(n)]\n",
    "    Y = [f(x) for x in X]\n",
    "    # VOTRE CODE\n",
    "    return s"
   ]
  },
  {
   "cell_type": "code",
   "execution_count": null,
   "id": "c3c8cee4",
   "metadata": {
    "deletable": false,
    "editable": false,
    "nbgrader": {
     "cell_type": "code",
     "checksum": "42ef0fa056b44bca31b04c538b516795",
     "grade": true,
     "grade_id": "cell-5f38cece2c07a0f2",
     "locked": true,
     "points": 1,
     "schema_version": 3,
     "solution": false,
     "task": false
    }
   },
   "outputs": [],
   "source": [
    "# Cellule d'évaluation, ne pas modifier"
   ]
  },
  {
   "cell_type": "markdown",
   "id": "52975d30",
   "metadata": {
    "deletable": false,
    "editable": false,
    "nbgrader": {
     "cell_type": "markdown",
     "checksum": "023c11e8a5396e0685e35eeff2c51143",
     "grade": false,
     "grade_id": "cell-0b7985f05c213676",
     "locked": true,
     "schema_version": 3,
     "solution": false,
     "task": false
    }
   },
   "source": [
    "Quelle est la complexité de la fonction `interp` en fonction du nombre de nœuds $n$ ?\n",
    "- a : linéaire\n",
    "- b : quadratique\n",
    "- c : cubique"
   ]
  },
  {
   "cell_type": "code",
   "execution_count": null,
   "id": "2577db10",
   "metadata": {},
   "outputs": [],
   "source": [
    "# Affecter à la variable comp_interp vautre réponse sous la forme d'une chaîne de caractères choisie parmi 'a', 'b' ou 'c' :\n",
    "comp_interp = 'd'"
   ]
  },
  {
   "cell_type": "code",
   "execution_count": null,
   "id": "9b2110fc",
   "metadata": {
    "deletable": false,
    "editable": false,
    "nbgrader": {
     "cell_type": "code",
     "checksum": "3ff12cf49e75ceb1c8121be7b0e4037b",
     "grade": true,
     "grade_id": "cell-b7eed39810f9b704",
     "locked": true,
     "points": 1,
     "schema_version": 3,
     "solution": false,
     "task": false
    }
   },
   "outputs": [],
   "source": [
    "# Cellule d'évaluation, ne pas modifier"
   ]
  },
  {
   "cell_type": "markdown",
   "id": "02207f33",
   "metadata": {
    "deletable": false,
    "editable": false,
    "nbgrader": {
     "cell_type": "markdown",
     "checksum": "ef1161a5c8afc722f18fd5bf5e428508",
     "grade": false,
     "grade_id": "cell-765a6be8211f6e72",
     "locked": true,
     "schema_version": 3,
     "solution": false,
     "task": false
    }
   },
   "source": [
    "On est paré pour illustrer le phénomène de Runge :"
   ]
  },
  {
   "cell_type": "code",
   "execution_count": null,
   "id": "1cd79bd9",
   "metadata": {},
   "outputs": [],
   "source": [
    "!sudo apt install cm-super dvipng texlive-latex-extra texlive-latex-recommended\n",
    "# Grosse install (longue) qui ne sert que pour avoir de jolies légendes (en latex)..."
   ]
  },
  {
   "cell_type": "code",
   "execution_count": null,
   "id": "f6866287",
   "metadata": {
    "deletable": false,
    "editable": false,
    "nbgrader": {
     "cell_type": "code",
     "checksum": "3b848c2c730440269033c1d4ec124f7d",
     "grade": false,
     "grade_id": "cell-ac77d5194ed550ae",
     "locked": true,
     "schema_version": 3,
     "solution": false,
     "task": false
    }
   },
   "outputs": [],
   "source": [
    "import matplotlib.pyplot as plt\n",
    "plt.style.use('seaborn')\n",
    "params = {'figure.figsize': (15, 10),\n",
    "          'axes.titlesize': 'xx-large',\n",
    "          'text.usetex':True,\n",
    "          'figure.dpi' : 100}\n",
    "plt.rcParams.update(params)\n",
    "fig, axs = plt.subplots(2, 2)\n",
    "\n",
    "I = 250\n",
    "intervalle = (-5,5)\n",
    "X = [intervalle[0] + (intervalle[1]-intervalle[0])*i/I for i in range(I+1)]\n",
    "Y = [f(x) for x in X]\n",
    "k = 0\n",
    "for n in [3,5,10,20] :\n",
    "    axs[k//2,k%2].set_xlim([-5.5,5.5])\n",
    "    axs[k//2,k%2].set_ylim([-0.8,1.5])\n",
    "    # plot de f(x)\n",
    "    axs[k//2,k%2].plot(X,Y,label=r\"$\\frac{1}{1+x^2}$\")\n",
    "    # plot de P_n(x)\n",
    "    Xn,Yn = [],[]\n",
    "    for x in X :\n",
    "        Xn.append(x)\n",
    "        Yn.append(interp(f,n,intervalle,x))\n",
    "    axs[k//2,k%2].plot(Xn,Yn,label=r\"$P_{{{}}}(x)$\".format(n))\n",
    "    axs[k//2,k%2].set_title(f\"n = {n}\")\n",
    "    # Plot des noeuds\n",
    "    Noeuds = [intervalle[0] + (intervalle[1]-intervalle[0])*i/(n-1) for i in range(n)]\n",
    "    P_noeuds = [interp(f,n,intervalle,noeud) for noeud in Noeuds] \n",
    "    axs[k//2,k%2].scatter(Noeuds,P_noeuds,c=\"r\",zorder=10,label=\"nœuds\")\n",
    "    axs[k//2,k%2].legend(fontsize = 15)\n",
    "    k += 1\n",
    "plt.tight_layout()"
   ]
  },
  {
   "cell_type": "markdown",
   "id": "a95c542f",
   "metadata": {
    "deletable": false,
    "editable": false,
    "nbgrader": {
     "cell_type": "markdown",
     "checksum": "737a32f06a3a9f84274dd2fd3ba3d036",
     "grade": false,
     "grade_id": "cell-767fe742ec25ec43",
     "locked": true,
     "schema_version": 3,
     "solution": false,
     "task": false
    }
   },
   "source": [
    "### Interpolation par morceaux"
   ]
  },
  {
   "cell_type": "markdown",
   "id": "9ddf1586",
   "metadata": {
    "deletable": false,
    "editable": false,
    "nbgrader": {
     "cell_type": "markdown",
     "checksum": "d2995ac987d97fabab7c5e970ca93175",
     "grade": false,
     "grade_id": "cell-8196b82310ebf11e",
     "locked": true,
     "schema_version": 3,
     "solution": false,
     "task": false
    }
   },
   "source": [
    "On découpe maintenant l'intervalle d'étude en N sous-intervalles et on interpole la fonction sur un petit nombre de points sur chacun de ces intervalles."
   ]
  },
  {
   "cell_type": "markdown",
   "id": "0e8e0035",
   "metadata": {},
   "source": [
    "#### Degré 0"
   ]
  },
  {
   "cell_type": "markdown",
   "id": "a935e230",
   "metadata": {
    "deletable": false,
    "editable": false,
    "nbgrader": {
     "cell_type": "markdown",
     "checksum": "2e293f176d9b9434bf8a15eab00045b3",
     "grade": false,
     "grade_id": "cell-5d3d8a657433e90b",
     "locked": true,
     "schema_version": 3,
     "solution": false,
     "task": false
    }
   },
   "source": [
    "La fonction suivante produit une interpolation par morceaux de degré 0 de la fonction `f`.<br>\n",
    "`N` est le nombre de sous-intervalles."
   ]
  },
  {
   "cell_type": "code",
   "execution_count": null,
   "id": "54976291",
   "metadata": {},
   "outputs": [],
   "source": [
    "def interp_rect(f,interv,N,x) :\n",
    "    debut,fin = interv[0],interv[1]\n",
    "    X = [debut + i*(fin-debut)/(N-1) for i in range(N)]\n",
    "    for i in range(N-1) :\n",
    "        if X[i] <= x < X[i+1] :\n",
    "            return f(X[i])"
   ]
  },
  {
   "cell_type": "code",
   "execution_count": null,
   "id": "532c1392",
   "metadata": {},
   "outputs": [],
   "source": [
    "nb = 2000 # nb de points pour le tracé\n",
    "N = 15\n",
    "intervalle = (-5,5)\n",
    "X = [intervalle[0] + (intervalle[1]-intervalle[0])*i/nb for i in range(nb)]\n",
    "Y1 = [f(x) for x in X]\n",
    "Y2 = [interp_rect(f,intervalle,N,x) for x in X]\n",
    "plt.plot(X,Y1,label = \"f(x)\")\n",
    "plt.plot(X,Y2,label = \"interpolation de degré 0\")\n",
    "Noeuds = [intervalle[0] + (intervalle[1]-intervalle[0])*i/(N-1) for i in range(N-1)]\n",
    "f_noeuds = [f(n) for n in Noeuds]\n",
    "plt.scatter(Noeuds,f_noeuds,c='r',zorder=3)\n",
    "plt.legend()"
   ]
  },
  {
   "cell_type": "markdown",
   "id": "73ec3bc4",
   "metadata": {
    "deletable": false,
    "editable": false,
    "nbgrader": {
     "cell_type": "markdown",
     "checksum": "c2a3e98ea5d78f12f15128f8df569318",
     "grade": false,
     "grade_id": "cell-1d0a537f337c164e",
     "locked": true,
     "schema_version": 3,
     "solution": false,
     "task": false
    }
   },
   "source": [
    "#### Degré 1"
   ]
  },
  {
   "cell_type": "markdown",
   "id": "6eed950b",
   "metadata": {
    "deletable": false,
    "editable": false,
    "nbgrader": {
     "cell_type": "markdown",
     "checksum": "9fa0df399d774f45e46ce7eed6291df1",
     "grade": false,
     "grade_id": "cell-fb3f9fed84e9d648",
     "locked": true,
     "schema_version": 3,
     "solution": false,
     "task": false
    }
   },
   "source": [
    "On considère maintenant les deux extrémités de chaque intervalle et on interpole par une loi affine :"
   ]
  },
  {
   "cell_type": "code",
   "execution_count": null,
   "id": "023725c2",
   "metadata": {},
   "outputs": [],
   "source": [
    "def interp_lin(f,interv,N,x) :\n",
    "    debut,fin = interv[0],interv[1]\n",
    "    X = [debut + i*(fin-debut)/(N-1) for i in range(N)]\n",
    "    for i in range(N-1) :\n",
    "        if X[i] <= x < X[i+1] :\n",
    "            return f(X[i])+(x-X[i])*(f(X[i+1])-f(X[i]))/(X[i+1]-X[i])"
   ]
  },
  {
   "cell_type": "code",
   "execution_count": null,
   "id": "56c6a7d8",
   "metadata": {},
   "outputs": [],
   "source": [
    "nb = 2000\n",
    "N = 15\n",
    "intervalle = (-5,5)\n",
    "X = [intervalle[0] + (intervalle[1]-intervalle[0])*i/nb for i in range(nb)]\n",
    "Y1 = [f(x) for x in X]\n",
    "Y2 = [interp_lin(f,intervalle,N,x) for x in X]\n",
    "plt.plot(X,Y1,label = \"f(x)\")\n",
    "plt.plot(X,Y2,label = \"interpolation de degré 1\")\n",
    "Noeuds = [intervalle[0] + (intervalle[1]-intervalle[0])*i/(N-1) for i in range(N)]\n",
    "f_noeuds = [f(n) for n in Noeuds]\n",
    "plt.scatter(Noeuds,f_noeuds,c='r',zorder=3)\n",
    "plt.legend()"
   ]
  },
  {
   "cell_type": "markdown",
   "id": "f162acae",
   "metadata": {
    "deletable": false,
    "editable": false,
    "nbgrader": {
     "cell_type": "markdown",
     "checksum": "9e3016d165b4fc9a01e40a563554d7b1",
     "grade": false,
     "grade_id": "cell-00c8a711dc4cb9ea",
     "locked": true,
     "schema_version": 3,
     "solution": false,
     "task": false
    }
   },
   "source": [
    "#### Degré 2"
   ]
  },
  {
   "cell_type": "markdown",
   "id": "8d4b4cfa",
   "metadata": {
    "deletable": false,
    "editable": false,
    "nbgrader": {
     "cell_type": "markdown",
     "checksum": "6614d08f1d6602846fb9e432def1bd9c",
     "grade": false,
     "grade_id": "cell-1c3c52a4199e099e",
     "locked": true,
     "schema_version": 3,
     "solution": false,
     "task": false
    }
   },
   "source": [
    "À vous de jouer pour construire la fonction d'interpolation par morceaux de degré 2.<br>\n",
    "On prendra systématiqement 2 intervalles successifs pour obtenir les 3 points à interpoler. Attention à ce que les morceaux successifs ne se superposent pas (au morceau constitué des 3 nœuds situés aux abscisses $\\left(x_0 + i\\times\\frac{I}{N},x_0 + (i+1)\\times\\frac{I}{N},x_0 + (i+2)\\times\\frac{I}{N}\\right)$ devra succéder un morceau constitué des 3 nœuds $\\left(x_0 + (i+2)\\times\\frac{I}{N},x_0 + (i+3)\\times\\frac{I}{N},x_0 + (i+4)\\times\\frac{I}{N}\\right)$ (en appelant $I$ l'intervalle).<br>\n",
    "On utilisera dans le code la fonction `interp` (définie plus haut) sur les 3 points du morceau.<br>"
   ]
  },
  {
   "cell_type": "code",
   "execution_count": null,
   "id": "c52c4579",
   "metadata": {
    "deletable": false,
    "nbgrader": {
     "cell_type": "code",
     "checksum": "4a6c8d75a49fb0b407afd0b64bf43f53",
     "grade": false,
     "grade_id": "cell-2fabae8ed395ab9e",
     "locked": false,
     "schema_version": 3,
     "solution": true,
     "task": false
    }
   },
   "outputs": [],
   "source": [
    "def interp_quad(f,interv,N,x) :\n",
    "    debut,fin = interv[0],interv[1]\n",
    "    X = [debut + i*(fin-debut)/(N-1) for i in range(N)]\n",
    "    # VOTRE CODE"
   ]
  },
  {
   "cell_type": "code",
   "execution_count": null,
   "id": "9b0d28b9",
   "metadata": {
    "deletable": false,
    "editable": false,
    "nbgrader": {
     "cell_type": "code",
     "checksum": "deeb8ca7db65088f2088f60cc3790327",
     "grade": true,
     "grade_id": "cell-12e148c8f9df4200",
     "locked": true,
     "points": 1,
     "schema_version": 3,
     "solution": false,
     "task": false
    }
   },
   "outputs": [],
   "source": [
    "# Cellule d'évaluation, ne pas modifier"
   ]
  },
  {
   "cell_type": "code",
   "execution_count": null,
   "id": "87a14ab4",
   "metadata": {},
   "outputs": [],
   "source": [
    "nb = 2000\n",
    "N = 15\n",
    "intervalle = (-5,5)\n",
    "X = [intervalle[0] + (intervalle[1]-intervalle[0])*i/nb for i in range(nb)]\n",
    "Y1 = [f(x) for x in X]\n",
    "Y2 = [interp_quad(f,intervalle,N,x) for x in X]\n",
    "plt.plot(X,Y1,label = \"f(x)\")\n",
    "plt.plot(X,Y2,label = \"interpolation de degré 2\")\n",
    "Noeuds = [intervalle[0] + (intervalle[1]-intervalle[0])*i/(N-1) for i in range(N)]\n",
    "f_noeuds = [f(n) for n in Noeuds]\n",
    "plt.scatter(Noeuds,f_noeuds,c='r',zorder=3)\n",
    "plt.legend()"
   ]
  },
  {
   "cell_type": "markdown",
   "id": "b9f29d9c",
   "metadata": {
    "deletable": false,
    "editable": false,
    "nbgrader": {
     "cell_type": "markdown",
     "checksum": "a4e82abe442ea1f04936e36798111c10",
     "grade": false,
     "grade_id": "cell-47761ae913109a11",
     "locked": true,
     "schema_version": 3,
     "solution": false,
     "task": false
    }
   },
   "source": [
    "Regardons enfin comment ces trois interpolations s'en sortent pour reproduire d'abord la fonction sinus, puis la fonction de Heaviside."
   ]
  },
  {
   "cell_type": "code",
   "execution_count": null,
   "id": "fca320f2",
   "metadata": {},
   "outputs": [],
   "source": [
    "plt.rcParams['figure.figsize'] = (15, 5)\n",
    "from math import sin\n",
    "def h(x) :\n",
    "    return sin(x)\n",
    "nb = 2000\n",
    "N = 15\n",
    "intervalle = (-5,5)\n",
    "X = [intervalle[0] + (intervalle[1]-intervalle[0])*i/nb for i in range(nb)]\n",
    "Y1 = [h(x) for x in X]\n",
    "Y2 = [interp_rect(h,intervalle,N,x) for x in X]\n",
    "Y3 = [interp_lin(h,intervalle,N,x) for x in X]\n",
    "Y4 = [interp_quad(h,intervalle,N,x) for x in X]\n",
    "plt.plot(X,Y1,label = \"sin(x)\")\n",
    "plt.plot(X,Y2,label = \"interpolation de degré 0\")\n",
    "plt.plot(X,Y3,label = \"interpolation de degré 1\")\n",
    "plt.plot(X,Y4,label = \"interpolation de degré 2\", ls=\"--\")\n",
    "Noeuds = [intervalle[0] + (intervalle[1]-intervalle[0])*i/(N-1) for i in range(N)]\n",
    "f_noeuds = [h(n) for n in Noeuds]\n",
    "plt.scatter(Noeuds,f_noeuds,c='r',zorder=3)\n",
    "plt.legend()"
   ]
  },
  {
   "cell_type": "code",
   "execution_count": null,
   "id": "c78c4c26",
   "metadata": {},
   "outputs": [],
   "source": [
    "def h(x) :\n",
    "    if x >= 0 :\n",
    "        return 1\n",
    "    else :\n",
    "        return 0\n",
    "nb = 2000\n",
    "N = 15\n",
    "intervalle = (-5,5)\n",
    "X = [intervalle[0] + (intervalle[1]-intervalle[0])*i/nb for i in range(nb)]\n",
    "Y1 = [h(x) for x in X]\n",
    "Y2 = [interp_rect(h,intervalle,N,x) for x in X]\n",
    "Y3 = [interp_lin(h,intervalle,N,x) for x in X]\n",
    "Y4 = [interp_quad(h,intervalle,N,x) for x in X]\n",
    "plt.plot(X,Y1,label = \"fonction de Heaviside H(x)\")\n",
    "plt.plot(X,Y2,label = \"interpolation de degré 0\", ls = \"--\")\n",
    "plt.plot(X,Y3,label = \"interpolation de degré 1\")\n",
    "plt.plot(X,Y4,label = \"interpolation de degré 2\")\n",
    "Noeuds = [intervalle[0] + (intervalle[1]-intervalle[0])*i/(N-1) for i in range(N)]\n",
    "f_noeuds = [h(n) for n in Noeuds]\n",
    "plt.scatter(Noeuds,f_noeuds,c='r',zorder=3)\n",
    "plt.legend()"
   ]
  },
  {
   "cell_type": "markdown",
   "id": "a0cc4b3a",
   "metadata": {
    "deletable": false,
    "editable": false,
    "nbgrader": {
     "cell_type": "markdown",
     "checksum": "4a7191c7346f953551a5d530db6b1a7f",
     "grade": false,
     "grade_id": "cell-615bebbeb67145b1",
     "locked": true,
     "schema_version": 3,
     "solution": false,
     "task": false
    }
   },
   "source": [
    "## Méthode d'Euler"
   ]
  },
  {
   "cell_type": "markdown",
   "id": "e1025618",
   "metadata": {
    "deletable": false,
    "editable": false,
    "nbgrader": {
     "cell_type": "markdown",
     "checksum": "96c1f766194c12c61d63f9a4f3df634e",
     "grade": false,
     "grade_id": "cell-d0ea5b64fb694c80",
     "locked": true,
     "schema_version": 3,
     "solution": false,
     "task": false
    }
   },
   "source": [
    "Complétez la fonction `Euler` ci-dessous qui implémente la méthode d'Euler explicite permettant de résoudre les équations différentielles du premier ordre&nbsp;:\n",
    "$$\n",
    "\\begin{cases}\n",
    "y'(t)=f(t,y(t))\\\\\n",
    "y(t_0)=y_0\n",
    "\\end{cases}\n",
    "$$"
   ]
  },
  {
   "cell_type": "code",
   "execution_count": null,
   "id": "732ab770",
   "metadata": {
    "deletable": false,
    "nbgrader": {
     "cell_type": "code",
     "checksum": "d67d1c02df9cbaff40c5cf5079c6cff9",
     "grade": false,
     "grade_id": "cell-ae261d2379b27415",
     "locked": false,
     "schema_version": 3,
     "solution": true,
     "task": false
    }
   },
   "outputs": [],
   "source": [
    "def Euler(f,t0,tf,y0,h) :\n",
    "    \"\"\"\n",
    "    postconditions : T est la liste des ti et Y est la liste des valeurs yi=y(ti)\n",
    "    \"\"\"\n",
    "    n = int((tf-t0)/h)\n",
    "    T = [t0+i*h for i in range(n)]\n",
    "    # VOTRE CODE\n",
    "    return T,Y"
   ]
  },
  {
   "cell_type": "code",
   "execution_count": null,
   "id": "08ad9100",
   "metadata": {
    "deletable": false,
    "editable": false,
    "nbgrader": {
     "cell_type": "code",
     "checksum": "50843902e63f369050eb94d1a6bfe975",
     "grade": true,
     "grade_id": "cell-d837d53a7a6ca219",
     "locked": true,
     "points": 1,
     "schema_version": 3,
     "solution": false,
     "task": false
    }
   },
   "outputs": [],
   "source": [
    "# Cellule d'évaluation, ne pas modifier"
   ]
  },
  {
   "cell_type": "markdown",
   "id": "7a7a0483",
   "metadata": {
    "deletable": false,
    "editable": false,
    "nbgrader": {
     "cell_type": "markdown",
     "checksum": "0d6fb9d23411fd6555f54ccee0c4d8f5",
     "grade": false,
     "grade_id": "cell-9892ee5d60dc2dd0",
     "locked": true,
     "schema_version": 3,
     "solution": false,
     "task": false
    }
   },
   "source": [
    "Testons notre fonction.<br>\n",
    "La cellule ci-dessous définie la dérivée de $f(t)$ et les deux cellules qui suivent permettent de tracer le résultat.<br>\n",
    "Libre à vous de modifier `f` et les autres paramètres (le pas en particulier) pour expérimenter."
   ]
  },
  {
   "cell_type": "code",
   "execution_count": null,
   "id": "00ae927e",
   "metadata": {},
   "outputs": [],
   "source": [
    "def f(t,y): \n",
    "    return 5-y/2"
   ]
  },
  {
   "cell_type": "code",
   "execution_count": null,
   "id": "fdd2c1d0",
   "metadata": {
    "deletable": false,
    "editable": false,
    "nbgrader": {
     "cell_type": "code",
     "checksum": "2a76038dcb47f254751989ef60209026",
     "grade": false,
     "grade_id": "cell-c2fbae69fc37fc58",
     "locked": true,
     "schema_version": 3,
     "solution": false,
     "task": false
    }
   },
   "outputs": [],
   "source": [
    "import matplotlib.pyplot as plt\n",
    "import numpy as np\n",
    "plt.style.use('seaborn')\n",
    "params = {'axes.titlesize': 'xx-large',\n",
    "          'legend.fontsize': 15,\n",
    "          'text.usetex':True,\n",
    "          'figure.dpi' : 100,\n",
    "          'figure.figsize' : (20,10)}\n",
    "plt.rcParams.update(params)"
   ]
  },
  {
   "cell_type": "code",
   "execution_count": null,
   "id": "0b4e05a0",
   "metadata": {},
   "outputs": [],
   "source": [
    "tmin, tmax = 0, 15\n",
    "ymin, ymax = 0, 12\n",
    "\n",
    "nbfl = 2\n",
    "fig, ax = plt.subplots()\n",
    "ax.set_aspect('equal')\n",
    "T,Y = np.meshgrid(np.linspace(tmin,tmax,nbfl*(tmax-tmin)+1),np.linspace(ymin,ymax,nbfl*(ymax-ymin)+1))\n",
    "U = 1\n",
    "V = f(T,Y)\n",
    "N = np.sqrt(U**2+V**2)\n",
    "U2, V2 = U/N, V/N\n",
    "ax.quiver(T,Y,U2,V2,pivot='mid',width=0.002,scale_units='xy',scale=2,alpha=0.8,color=\"white\",units='width')\n",
    "\n",
    "pas = 0.5 # pas\n",
    "y0 = 0\n",
    "T,Y = Euler(f,tmin,tmax,y0,pas)\n",
    "\n",
    "ax.plot(T,Y,lw=1)\n",
    "ax.scatter(T,Y,s=8,label=r\"$y_i$ pour $h={0.1}$\")\n",
    "Tsol = np.linspace(0,15,100)\n",
    "Ysol = 10*(1-np.exp(-Tsol/2))\n",
    "ax.plot(Tsol,Ysol,ls=\"-\",lw=2,zorder=1,label=r\"$y(t)$ solution exacte\")\n",
    "plt.legend()"
   ]
  },
  {
   "cell_type": "code",
   "execution_count": null,
   "id": "88ae1ef3",
   "metadata": {},
   "outputs": [],
   "source": [
    "def acc(t) :\n",
    "    if 2 <= t <= 4 :\n",
    "        return 4\n",
    "    elif 4 < t <= 8 :\n",
    "        return -2\n",
    "    elif 10 < t <= 11 :\n",
    "        return -4\n",
    "    elif 11 < t <= 13 :\n",
    "        return 2\n",
    "    else :\n",
    "        return 0"
   ]
  },
  {
   "cell_type": "markdown",
   "id": "0d725dd6",
   "metadata": {
    "deletable": false,
    "editable": false,
    "nbgrader": {
     "cell_type": "markdown",
     "checksum": "6b47b8c0f7eac8c8aee41662d90401c0",
     "grade": false,
     "grade_id": "cell-2aa73bb9c8fccc0c",
     "locked": true,
     "schema_version": 3,
     "solution": false,
     "task": false
    }
   },
   "source": [
    "Imaginons que la fonction `acc` ci-dessus corresponde à la commande de l'accélération d'un ascenceur.<br>\n",
    "Déterminons la position de l'ascenceur au cours du temps."
   ]
  },
  {
   "cell_type": "code",
   "execution_count": null,
   "id": "954ea676",
   "metadata": {},
   "outputs": [],
   "source": [
    "t0, tmax = 0, 14\n",
    "v0 = 0\n",
    "y0 = 2\n",
    "t, v, y = t0, v0, y0\n",
    "T, V, Y = [t0],[v0],[y0]\n",
    "dt = 1e-3\n",
    "while t < tmax :\n",
    "    v += acc(t)*dt\n",
    "    y += v*dt\n",
    "    t += dt\n",
    "    T.append(t)\n",
    "    V.append(v)\n",
    "    Y.append(y)"
   ]
  },
  {
   "cell_type": "markdown",
   "id": "508fd613",
   "metadata": {
    "deletable": false,
    "editable": false,
    "nbgrader": {
     "cell_type": "markdown",
     "checksum": "4ceedeb95835732f8166f412c29bffaf",
     "grade": false,
     "grade_id": "cell-9c2cc32f6f75044b",
     "locked": true,
     "schema_version": 3,
     "solution": false,
     "task": false
    }
   },
   "source": [
    "Quelle méthode d'intégration a-t-elle été mise en œuvre dans le code ci-dessus&nbsp;?\n",
    "- a : méthode d'Euler explicite\n",
    "- b: méthode d'Euler implicite\n",
    "- c : méthode d'Euler semi-implicite\n",
    "- d : méthode d'Euler améliorée"
   ]
  },
  {
   "cell_type": "code",
   "execution_count": null,
   "id": "36ad99b6",
   "metadata": {},
   "outputs": [],
   "source": [
    "# Affecter à la variable methode votre réponse parmi les chaînes de caractères 'a', 'b', 'c' ou 'd'.\n",
    "methode = 'e'"
   ]
  },
  {
   "cell_type": "code",
   "execution_count": null,
   "id": "292112d9",
   "metadata": {
    "deletable": false,
    "editable": false,
    "nbgrader": {
     "cell_type": "code",
     "checksum": "060052a1ff3d99b13a39793846119374",
     "grade": true,
     "grade_id": "cell-9c5b1ea0208c83bc",
     "locked": true,
     "points": 1,
     "schema_version": 3,
     "solution": false,
     "task": false
    }
   },
   "outputs": [],
   "source": [
    "# Cellule d'évaluation, ne pas modifier"
   ]
  },
  {
   "cell_type": "markdown",
   "id": "31eeedf3",
   "metadata": {
    "deletable": false,
    "editable": false,
    "nbgrader": {
     "cell_type": "markdown",
     "checksum": "a3f1490d055aee02c7a6048887e0b78f",
     "grade": false,
     "grade_id": "cell-89e3a5949a9ffcfa",
     "locked": true,
     "schema_version": 3,
     "solution": false,
     "task": false
    }
   },
   "source": [
    "Imaginons qu'un pallier fasse 6 m et que le point de départ de l'ascenceur corresponde au RDC (étage 0), quels sont les 2 autres étages visités par l'ascenceur&nbsp;?"
   ]
  },
  {
   "cell_type": "code",
   "execution_count": null,
   "id": "116fae0c",
   "metadata": {},
   "outputs": [],
   "source": [
    "# affectez aux variables etage1 et etage2, le numéro de l'étage atteint (sous la forme d'un entier) :\n",
    "etage1 = 0\n",
    "etage2 = 0"
   ]
  },
  {
   "cell_type": "code",
   "execution_count": null,
   "id": "94eee60c",
   "metadata": {
    "deletable": false,
    "editable": false,
    "nbgrader": {
     "cell_type": "code",
     "checksum": "47193bc3ccaeed5a93367fc26a6e67ca",
     "grade": true,
     "grade_id": "cell-38dc7ab7e563ec7c",
     "locked": true,
     "points": 1,
     "schema_version": 3,
     "solution": false,
     "task": false
    }
   },
   "outputs": [],
   "source": [
    "# Cellule d'évaluation, ne pas modifier"
   ]
  },
  {
   "cell_type": "markdown",
   "id": "2866ea77",
   "metadata": {},
   "source": [
    "La dernière mission est d'intégrer le système d'équations différentielles du premier ordre suivant pour $t$ allant de 0 à 100&nbsp;:\n",
    "$$\n",
    "\\begin{cases}\n",
    "x'=\\sigma(y-x)\\\\\n",
    "y'=\\rho x-y-xz\\\\\n",
    "z'=xy-\\beta z\n",
    "\\end{cases}\n",
    "$$\n",
    "on prendra&nbsp;:\n",
    "$$\n",
    "\\begin{cases}\n",
    "\\sigma = 3\\\\\n",
    "\\rho = 26.5\\\\\n",
    "\\beta = 1\n",
    "\\end{cases}\n",
    "$$\n",
    "et $(x_0\\,; y_0\\,; z_0) = (0\\,;1\\,; 1,05)$.<br>\n",
    "Vous utiliserez la méthode d'Euler explicite et prendrez un pas de $0,01$.<br>\n",
    "Votre code devra produire les 3 listes de $10\\,001$ éléments contenant les valeurs $x(t_i),y(t_i),z(t_i)$ pour chaque $t_i \\in [0,100]$ et elles devront être nommées (pour faire original) `X`, `Y` et `Z`."
   ]
  },
  {
   "cell_type": "code",
   "execution_count": null,
   "id": "f48dbc11",
   "metadata": {
    "deletable": false,
    "nbgrader": {
     "cell_type": "code",
     "checksum": "29c03d5ca9c4cf9c1baf3a4a38cd6f4d",
     "grade": false,
     "grade_id": "cell-6734178b77ccc848",
     "locked": false,
     "schema_version": 3,
     "solution": true,
     "task": false
    }
   },
   "outputs": [],
   "source": [
    "# VOTRE CODE"
   ]
  },
  {
   "cell_type": "code",
   "execution_count": null,
   "id": "bb7fbfe8",
   "metadata": {
    "deletable": false,
    "editable": false,
    "nbgrader": {
     "cell_type": "code",
     "checksum": "a939064b3f1e17cba5a34321b89ddfcd",
     "grade": true,
     "grade_id": "cell-2605c224e5d76dbc",
     "locked": true,
     "points": 1,
     "schema_version": 3,
     "solution": false,
     "task": false
    }
   },
   "outputs": [],
   "source": [
    "# Cellule d'évaluation, ne pas modifier"
   ]
  },
  {
   "cell_type": "code",
   "execution_count": null,
   "id": "8e257489",
   "metadata": {},
   "outputs": [],
   "source": [
    "import plotly.graph_objects as go\n",
    "fig = go.Figure(data=go.Scatter3d(x=X,y=Y,z=Z,mode=\"lines\",line=dict(color='darkblue',width=2)))\n",
    "fig.update_layout(scene = dict(xaxis = dict(showbackground=False,showticklabels=False,title=''),yaxis = dict(showbackground=False,showticklabels=False,title=''),zaxis = dict(showbackground=False,showticklabels=False,title='')),height=1000)\n",
    "fig.show()"
   ]
  },
  {
   "cell_type": "code",
   "execution_count": null,
   "id": "bcc80e8a",
   "metadata": {},
   "outputs": [],
   "source": []
  }
 ],
 "metadata": {
  "kernelspec": {
   "display_name": "Python 3",
   "language": "python",
   "name": "python3"
  },
  "language_info": {
   "codemirror_mode": {
    "name": "ipython",
    "version": 3
   },
   "file_extension": ".py",
   "mimetype": "text/x-python",
   "name": "python",
   "nbconvert_exporter": "python",
   "pygments_lexer": "ipython3",
   "version": "3.8.13"
  }
 },
 "nbformat": 4,
 "nbformat_minor": 5
}
